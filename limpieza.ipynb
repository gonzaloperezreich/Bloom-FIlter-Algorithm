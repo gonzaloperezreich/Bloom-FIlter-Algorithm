{
 "cells": [
  {
   "cell_type": "code",
   "execution_count": 13,
   "metadata": {},
   "outputs": [
    {
     "name": "stdout",
     "output_type": "stream",
     "text": [
      "(3808, 1)\n"
     ]
    }
   ],
   "source": [
    "import pandas as pd\n",
    "films= pd.read_csv(\"Film-Names.csv\")\n",
    "films = films[films['0'].str.len() <= 50]\n",
    "babies = pd.read_csv(\"Popular-Baby-Names-Final.csv\")\n",
    "films = films[~films['0'].isin(babies['Name'])]\n",
    "films = films.replace(';;;;;', '', regex=True)\n",
    "films = films.rename(columns={'0': 'Name'})\n",
    "films.head()\n",
    "films.to_csv('Films-Actualizado.csv', index=False)\n"
   ]
  }
 ],
 "metadata": {
  "kernelspec": {
   "display_name": "Python 3.11.0 64-bit",
   "language": "python",
   "name": "python3"
  },
  "language_info": {
   "codemirror_mode": {
    "name": "ipython",
    "version": 3
   },
   "file_extension": ".py",
   "mimetype": "text/x-python",
   "name": "python",
   "nbconvert_exporter": "python",
   "pygments_lexer": "ipython3",
   "version": "3.11.0"
  },
  "orig_nbformat": 4,
  "vscode": {
   "interpreter": {
    "hash": "aee8b7b246df8f9039afb4144a1f6fd8d2ca17a180786b69acc140d282b71a49"
   }
  }
 },
 "nbformat": 4,
 "nbformat_minor": 2
}
