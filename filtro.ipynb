{
 "cells": [
  {
   "cell_type": "code",
   "execution_count": 2,
   "metadata": {},
   "outputs": [],
   "source": [
    "import pandas as pd\n",
    "import numpy as np\n",
    "def sacar_porcentaje_de_datos(data1,data2, porcentaje,total_datos):\n",
    "    df1 = pd.read_csv(str(data1))\n",
    "    df2 = pd.read_csv(str(data2))\n",
    "    cantidad_a_sacar = int((total_datos * porcentaje) // 100)\n",
    "    cantidad_restante= total_datos-cantidad_a_sacar\n",
    "    filas_aleatorias_df1 = df1.sample(cantidad_a_sacar,replace=True)\n",
    "    filas_aleatorias_df2=df2.sample(cantidad_restante,replace=True)\n",
    "    print(filas_aleatorias_df1.count())\n",
    "    print(filas_aleatorias_df2.count())\n",
    "    filas_aleatorias = pd.concat([filas_aleatorias_df1, filas_aleatorias_df2])\n",
    "    data_final = filas_aleatorias[\"Name\"].to_numpy()\n",
    "    np.random.shuffle(data_final)\n",
    "    return(data_final)\n"
   ]
  }
 ],
 "metadata": {
  "kernelspec": {
   "display_name": "Python 3.11.0 64-bit",
   "language": "python",
   "name": "python3"
  },
  "language_info": {
   "codemirror_mode": {
    "name": "ipython",
    "version": 3
   },
   "file_extension": ".py",
   "mimetype": "text/x-python",
   "name": "python",
   "nbconvert_exporter": "python",
   "pygments_lexer": "ipython3",
   "version": "3.10.2"
  },
  "orig_nbformat": 4,
  "vscode": {
   "interpreter": {
    "hash": "aee8b7b246df8f9039afb4144a1f6fd8d2ca17a180786b69acc140d282b71a49"
   }
  }
 },
 "nbformat": 4,
 "nbformat_minor": 2
}
